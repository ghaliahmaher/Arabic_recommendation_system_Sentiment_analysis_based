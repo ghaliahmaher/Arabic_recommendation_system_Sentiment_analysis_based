{
 "cells": [
  {
   "cell_type": "markdown",
   "id": "cb669633",
   "metadata": {},
   "source": [
    "# Sentiment Analysis Recommendation System NLP Preprocessing\n",
    "\n",
    "## Group: U_Data\n",
    "\n",
    "    Members:\n",
    "    \n",
    "    Aroob Almutairi \n",
    "    \n",
    "    Abdulrahman Alosaimi\n",
    "    \n",
    "    Duaa Al saad \n",
    "    \n",
    "    Fatimah Alateeq\n",
    "    \n",
    "    Ghaliah mohammedhussein"
   ]
  },
  {
   "cell_type": "code",
   "execution_count": 1,
   "id": "49d08734",
   "metadata": {},
   "outputs": [
    {
     "data": {
      "text/html": [
       "<style>.container { width:95% !important; }</style>"
      ],
      "text/plain": [
       "<IPython.core.display.HTML object>"
      ]
     },
     "metadata": {},
     "output_type": "display_data"
    }
   ],
   "source": [
    "from IPython.display import display, HTML\n",
    "display(HTML(\"<style>.container { width:95% !important; }</style>\"))"
   ]
  },
  {
   "cell_type": "markdown",
   "id": "c56f0d33",
   "metadata": {},
   "source": [
    "## Required installation "
   ]
  },
  {
   "cell_type": "code",
   "execution_count": 2,
   "id": "37fb7c3f",
   "metadata": {},
   "outputs": [],
   "source": [
    "# make sure to create a new environment in anaconda navigator with python version 3.6\n",
    "# ! pip install pandas\n",
    "# ! pip install numpy\n",
    "# ! pip install scikit-learn\n",
    "# ! pip install matplotlib\n",
    "# ! pip install seaborn\n",
    "# ! pip install pyarabic\n",
    "# ! pip install emoji\n",
    "# ! pip install pystemmer\n",
    "# ! pip install optuna==2.3.0\n",
    "# ! pip install transformers==4.2.1\n",
    "# ! pip install torch"
   ]
  },
  {
   "cell_type": "markdown",
   "id": "6c7d07b6",
   "metadata": {},
   "source": [
    "## NLP Preprocessing"
   ]
  },
  {
   "cell_type": "code",
   "execution_count": 3,
   "id": "fc090889",
   "metadata": {},
   "outputs": [
    {
     "name": "stderr",
     "output_type": "stream",
     "text": [
      "/Users/Ghaliah_Maher/opt/anaconda3/envs/DL/lib/python3.6/site-packages/tqdm/auto.py:22: TqdmWarning: IProgress not found. Please update jupyter and ipywidgets. See https://ipywidgets.readthedocs.io/en/stable/user_install.html\n",
      "  from .autonotebook import tqdm as notebook_tqdm\n"
     ]
    }
   ],
   "source": [
    "import numpy as np\n",
    "import pandas as pd\n",
    "import pyarabic.araby as ar\n",
    "\n",
    "import re , emoji, Stemmer, functools, operator, string\n",
    "import torch , optuna, gc, random, os\n",
    "\n",
    "from tqdm import tqdm_notebook as tqdm\n",
    "from sklearn.model_selection import train_test_split\n",
    "from sklearn.metrics import classification_report, accuracy_score, f1_score, confusion_matrix, precision_score , recall_score\n",
    "from transformers import AutoConfig, AutoModelForSequenceClassification, AutoTokenizer\n",
    "from transformers.data.processors import SingleSentenceClassificationProcessor\n",
    "from transformers import Trainer , TrainingArguments\n",
    "from transformers.trainer_utils import EvaluationStrategy\n",
    "from transformers.data.processors.utils import InputFeatures\n",
    "from torch.utils.data import Dataset\n",
    "from torch.utils.data import DataLoader\n",
    "from sklearn.utils import resample\n",
    "\n",
    "import logging\n",
    "\n",
    "logging.basicConfig(level=logging.WARNING)\n",
    "logger = logging.getLogger(__name__)\n",
    "\n",
    "\n",
    "import matplotlib.pyplot as plt \n",
    "import seaborn as sns\n"
   ]
  },
  {
   "cell_type": "code",
   "execution_count": 4,
   "id": "f16c5d54",
   "metadata": {
    "scrolled": false
   },
   "outputs": [
    {
     "data": {
      "text/html": [
       "<div>\n",
       "<style scoped>\n",
       "    .dataframe tbody tr th:only-of-type {\n",
       "        vertical-align: middle;\n",
       "    }\n",
       "\n",
       "    .dataframe tbody tr th {\n",
       "        vertical-align: top;\n",
       "    }\n",
       "\n",
       "    .dataframe thead th {\n",
       "        text-align: right;\n",
       "    }\n",
       "</style>\n",
       "<table border=\"1\" class=\"dataframe\">\n",
       "  <thead>\n",
       "    <tr style=\"text-align: right;\">\n",
       "      <th></th>\n",
       "      <th>TWEET</th>\n",
       "      <th>LABEL</th>\n",
       "    </tr>\n",
       "  </thead>\n",
       "  <tbody>\n",
       "    <tr>\n",
       "      <th>0</th>\n",
       "      <td>انا معصبه مرا</td>\n",
       "      <td>anger</td>\n",
       "    </tr>\n",
       "    <tr>\n",
       "      <th>1</th>\n",
       "      <td>أنا معصبة اتركوني بحالي</td>\n",
       "      <td>anger</td>\n",
       "    </tr>\n",
       "    <tr>\n",
       "      <th>2</th>\n",
       "      <td>خلااااااص</td>\n",
       "      <td>anger</td>\n",
       "    </tr>\n",
       "    <tr>\n",
       "      <th>3</th>\n",
       "      <td>انا جداً منزعجه</td>\n",
       "      <td>anger</td>\n",
       "    </tr>\n",
       "    <tr>\n",
       "      <th>4</th>\n",
       "      <td>هذا انسان كاذب</td>\n",
       "      <td>anger</td>\n",
       "    </tr>\n",
       "    <tr>\n",
       "      <th>...</th>\n",
       "      <td>...</td>\n",
       "      <td>...</td>\n",
       "    </tr>\n",
       "    <tr>\n",
       "      <th>4036</th>\n",
       "      <td>كئيب ولا يستحق الزيارة</td>\n",
       "      <td>sadness</td>\n",
       "    </tr>\n",
       "    <tr>\n",
       "      <th>4037</th>\n",
       "      <td>الغرف كئيبه ومظلمه وتهويتها سيئه</td>\n",
       "      <td>sadness</td>\n",
       "    </tr>\n",
       "    <tr>\n",
       "      <th>4038</th>\n",
       "      <td>جو المتحف كئيب نسبيا</td>\n",
       "      <td>sadness</td>\n",
       "    </tr>\n",
       "    <tr>\n",
       "      <th>4039</th>\n",
       "      <td>حرام انه عدد الزوار قليل جداً</td>\n",
       "      <td>sympathy</td>\n",
       "    </tr>\n",
       "    <tr>\n",
       "      <th>4040</th>\n",
       "      <td>حرام والله ما في اعلان ولا تعريف بحاجات زي دي</td>\n",
       "      <td>sympathy</td>\n",
       "    </tr>\n",
       "  </tbody>\n",
       "</table>\n",
       "<p>4041 rows × 2 columns</p>\n",
       "</div>"
      ],
      "text/plain": [
       "                                              TWEET     LABEL\n",
       "0                                     انا معصبه مرا     anger\n",
       "1                           أنا معصبة اتركوني بحالي     anger\n",
       "2                                         خلااااااص     anger\n",
       "3                                   انا جداً منزعجه     anger\n",
       "4                                    هذا انسان كاذب     anger\n",
       "...                                             ...       ...\n",
       "4036                         كئيب ولا يستحق الزيارة   sadness\n",
       "4037               الغرف كئيبه ومظلمه وتهويتها سيئه   sadness\n",
       "4038                          جو المتحف كئيب نسبيا    sadness\n",
       "4039                  حرام انه عدد الزوار قليل جداً  sympathy\n",
       "4040  حرام والله ما في اعلان ولا تعريف بحاجات زي دي  sympathy\n",
       "\n",
       "[4041 rows x 2 columns]"
      ]
     },
     "execution_count": 4,
     "metadata": {},
     "output_type": "execute_result"
    }
   ],
   "source": [
    "df_NLP= pd.read_excel('NLP_Dataset.xlsx', engine='openpyxl')\n",
    "df_NLP"
   ]
  },
  {
   "cell_type": "markdown",
   "id": "9177ac29",
   "metadata": {},
   "source": [
    "## Droping and Renaming columns"
   ]
  },
  {
   "cell_type": "code",
   "execution_count": 5,
   "id": "c10c66fc",
   "metadata": {},
   "outputs": [
    {
     "data": {
      "text/html": [
       "<div>\n",
       "<style scoped>\n",
       "    .dataframe tbody tr th:only-of-type {\n",
       "        vertical-align: middle;\n",
       "    }\n",
       "\n",
       "    .dataframe tbody tr th {\n",
       "        vertical-align: top;\n",
       "    }\n",
       "\n",
       "    .dataframe thead th {\n",
       "        text-align: right;\n",
       "    }\n",
       "</style>\n",
       "<table border=\"1\" class=\"dataframe\">\n",
       "  <thead>\n",
       "    <tr style=\"text-align: right;\">\n",
       "      <th></th>\n",
       "      <th>tweet</th>\n",
       "      <th>label</th>\n",
       "    </tr>\n",
       "  </thead>\n",
       "  <tbody>\n",
       "    <tr>\n",
       "      <th>0</th>\n",
       "      <td>انا معصبه مرا</td>\n",
       "      <td>anger</td>\n",
       "    </tr>\n",
       "    <tr>\n",
       "      <th>1</th>\n",
       "      <td>أنا معصبة اتركوني بحالي</td>\n",
       "      <td>anger</td>\n",
       "    </tr>\n",
       "    <tr>\n",
       "      <th>2</th>\n",
       "      <td>خلااااااص</td>\n",
       "      <td>anger</td>\n",
       "    </tr>\n",
       "    <tr>\n",
       "      <th>3</th>\n",
       "      <td>انا جداً منزعجه</td>\n",
       "      <td>anger</td>\n",
       "    </tr>\n",
       "    <tr>\n",
       "      <th>4</th>\n",
       "      <td>هذا انسان كاذب</td>\n",
       "      <td>anger</td>\n",
       "    </tr>\n",
       "    <tr>\n",
       "      <th>...</th>\n",
       "      <td>...</td>\n",
       "      <td>...</td>\n",
       "    </tr>\n",
       "    <tr>\n",
       "      <th>4036</th>\n",
       "      <td>كئيب ولا يستحق الزيارة</td>\n",
       "      <td>sadness</td>\n",
       "    </tr>\n",
       "    <tr>\n",
       "      <th>4037</th>\n",
       "      <td>الغرف كئيبه ومظلمه وتهويتها سيئه</td>\n",
       "      <td>sadness</td>\n",
       "    </tr>\n",
       "    <tr>\n",
       "      <th>4038</th>\n",
       "      <td>جو المتحف كئيب نسبيا</td>\n",
       "      <td>sadness</td>\n",
       "    </tr>\n",
       "    <tr>\n",
       "      <th>4039</th>\n",
       "      <td>حرام انه عدد الزوار قليل جداً</td>\n",
       "      <td>sympathy</td>\n",
       "    </tr>\n",
       "    <tr>\n",
       "      <th>4040</th>\n",
       "      <td>حرام والله ما في اعلان ولا تعريف بحاجات زي دي</td>\n",
       "      <td>sympathy</td>\n",
       "    </tr>\n",
       "  </tbody>\n",
       "</table>\n",
       "<p>4021 rows × 2 columns</p>\n",
       "</div>"
      ],
      "text/plain": [
       "                                              tweet     label\n",
       "0                                     انا معصبه مرا     anger\n",
       "1                           أنا معصبة اتركوني بحالي     anger\n",
       "2                                         خلااااااص     anger\n",
       "3                                   انا جداً منزعجه     anger\n",
       "4                                    هذا انسان كاذب     anger\n",
       "...                                             ...       ...\n",
       "4036                         كئيب ولا يستحق الزيارة   sadness\n",
       "4037               الغرف كئيبه ومظلمه وتهويتها سيئه   sadness\n",
       "4038                          جو المتحف كئيب نسبيا    sadness\n",
       "4039                  حرام انه عدد الزوار قليل جداً  sympathy\n",
       "4040  حرام والله ما في اعلان ولا تعريف بحاجات زي دي  sympathy\n",
       "\n",
       "[4021 rows x 2 columns]"
      ]
     },
     "execution_count": 5,
     "metadata": {},
     "output_type": "execute_result"
    }
   ],
   "source": [
    "df_NLP.dropna(inplace=True)\n",
    "df_NLP.rename(columns = {'TWEET':'tweet', 'LABEL':'label'}, inplace = True)\n",
    "df_NLP"
   ]
  },
  {
   "cell_type": "code",
   "execution_count": 6,
   "id": "a1faa557",
   "metadata": {},
   "outputs": [
    {
     "name": "stdout",
     "output_type": "stream",
     "text": [
      "<class 'pandas.core.frame.DataFrame'>\n",
      "Int64Index: 4021 entries, 0 to 4040\n",
      "Data columns (total 2 columns):\n",
      " #   Column  Non-Null Count  Dtype \n",
      "---  ------  --------------  ----- \n",
      " 0   tweet   4021 non-null   object\n",
      " 1   label   4021 non-null   object\n",
      "dtypes: object(2)\n",
      "memory usage: 94.2+ KB\n"
     ]
    }
   ],
   "source": [
    "df_NLP.info()"
   ]
  },
  {
   "cell_type": "markdown",
   "id": "ee5270df",
   "metadata": {},
   "source": [
    "## Cleanning the Data "
   ]
  },
  {
   "cell_type": "code",
   "execution_count": 7,
   "id": "0064e361",
   "metadata": {},
   "outputs": [],
   "source": [
    "# Removing the punctuations\n",
    "\n",
    "df_NLP['tweet']=df_NLP['tweet'].str.replace(r'\\:', '', regex=True)\n",
    "df_NLP['tweet']=df_NLP['tweet'].str.replace(r'\\.', '', regex=True)\n",
    "df_NLP['tweet']=df_NLP['tweet'].str.replace(r'\\%', '', regex=True)"
   ]
  },
  {
   "cell_type": "code",
   "execution_count": 8,
   "id": "491db691",
   "metadata": {},
   "outputs": [],
   "source": [
    "# Removing digits and english letters\n",
    "\n",
    "df_NLP['tweet']=df_NLP['tweet'].str.replace(r'\\s*[A-Za-z]+\\b', '', regex=True)\n",
    "df_NLP['tweet']=df_NLP['tweet'].str.replace(r'\\s*[0-9]+\\b', '', regex=True)\n",
    "df_NLP['tweet']=df_NLP['tweet'].str.replace(r'[^\\w\\s]', '', regex=True)"
   ]
  },
  {
   "cell_type": "code",
   "execution_count": 9,
   "id": "05d52ba7",
   "metadata": {},
   "outputs": [
    {
     "data": {
      "text/plain": [
       "0                                       انا معصبه مرا\n",
       "1                             أنا معصبة اتركوني بحالي\n",
       "2                                           خلااااااص\n",
       "3                                      انا جدا منزعجه\n",
       "4                                      هذا انسان كاذب\n",
       "                            ...                      \n",
       "4036                           كئيب ولا يستحق الزيارة\n",
       "4037                 الغرف كئيبه ومظلمه وتهويتها سيئه\n",
       "4038                            جو المتحف كئيب نسبيا \n",
       "4039                     حرام انه عدد الزوار قليل جدا\n",
       "4040    حرام والله ما في اعلان ولا تعريف بحاجات زي دي\n",
       "Name: tweet, Length: 4021, dtype: object"
      ]
     },
     "execution_count": 9,
     "metadata": {},
     "output_type": "execute_result"
    }
   ],
   "source": [
    "df_NLP['tweet']"
   ]
  },
  {
   "cell_type": "code",
   "execution_count": 10,
   "id": "294ac564",
   "metadata": {
    "scrolled": false
   },
   "outputs": [
    {
     "data": {
      "text/html": [
       "<div>\n",
       "<style scoped>\n",
       "    .dataframe tbody tr th:only-of-type {\n",
       "        vertical-align: middle;\n",
       "    }\n",
       "\n",
       "    .dataframe tbody tr th {\n",
       "        vertical-align: top;\n",
       "    }\n",
       "\n",
       "    .dataframe thead th {\n",
       "        text-align: right;\n",
       "    }\n",
       "</style>\n",
       "<table border=\"1\" class=\"dataframe\">\n",
       "  <thead>\n",
       "    <tr style=\"text-align: right;\">\n",
       "      <th></th>\n",
       "      <th>tweet</th>\n",
       "      <th>label</th>\n",
       "    </tr>\n",
       "  </thead>\n",
       "  <tbody>\n",
       "    <tr>\n",
       "      <th>0</th>\n",
       "      <td>اف مافي شي راضي يزبط</td>\n",
       "      <td>anger</td>\n",
       "    </tr>\n",
       "    <tr>\n",
       "      <th>1</th>\n",
       "      <td>مبسوطه واحساس بالراحه وتنفس مريح</td>\n",
       "      <td>joy</td>\n",
       "    </tr>\n",
       "    <tr>\n",
       "      <th>2</th>\n",
       "      <td>متعاطفه مرا مع هذا الشخص</td>\n",
       "      <td>sympathy</td>\n",
       "    </tr>\n",
       "    <tr>\n",
       "      <th>3</th>\n",
       "      <td>أنا مكتئبة جدا  احتاج عزلة عن الناس</td>\n",
       "      <td>sadness</td>\n",
       "    </tr>\n",
       "    <tr>\n",
       "      <th>4</th>\n",
       "      <td>احساس بعدم الراحه قلق وشك نبضات قلب سريعه تنفس...</td>\n",
       "      <td>fear</td>\n",
       "    </tr>\n",
       "    <tr>\n",
       "      <th>...</th>\n",
       "      <td>...</td>\n",
       "      <td>...</td>\n",
       "    </tr>\n",
       "    <tr>\n",
       "      <th>4016</th>\n",
       "      <td>انا اقوى من الملل</td>\n",
       "      <td>bored</td>\n",
       "    </tr>\n",
       "    <tr>\n",
       "      <th>4017</th>\n",
       "      <td>مره يعصب صدق</td>\n",
       "      <td>anger</td>\n",
       "    </tr>\n",
       "    <tr>\n",
       "      <th>4018</th>\n",
       "      <td>اشعر بنيران تخرج من عيناي</td>\n",
       "      <td>anger</td>\n",
       "    </tr>\n",
       "    <tr>\n",
       "      <th>4019</th>\n",
       "      <td>مصدومة</td>\n",
       "      <td>surprise</td>\n",
       "    </tr>\n",
       "    <tr>\n",
       "      <th>4020</th>\n",
       "      <td>الرحمة والحكمة</td>\n",
       "      <td>sympathy</td>\n",
       "    </tr>\n",
       "  </tbody>\n",
       "</table>\n",
       "<p>4021 rows × 2 columns</p>\n",
       "</div>"
      ],
      "text/plain": [
       "                                                  tweet     label\n",
       "0                                  اف مافي شي راضي يزبط     anger\n",
       "1                      مبسوطه واحساس بالراحه وتنفس مريح       joy\n",
       "2                              متعاطفه مرا مع هذا الشخص  sympathy\n",
       "3                   أنا مكتئبة جدا  احتاج عزلة عن الناس   sadness\n",
       "4     احساس بعدم الراحه قلق وشك نبضات قلب سريعه تنفس...      fear\n",
       "...                                                 ...       ...\n",
       "4016                                  انا اقوى من الملل     bored\n",
       "4017                                       مره يعصب صدق     anger\n",
       "4018                          اشعر بنيران تخرج من عيناي     anger\n",
       "4019                                             مصدومة  surprise\n",
       "4020                                     الرحمة والحكمة  sympathy\n",
       "\n",
       "[4021 rows x 2 columns]"
      ]
     },
     "execution_count": 10,
     "metadata": {},
     "output_type": "execute_result"
    }
   ],
   "source": [
    "# Mix the data\n",
    "df_NLP_new = df_NLP.sample(frac = 1)\n",
    "df_NLP_new.reset_index(drop=True)"
   ]
  },
  {
   "cell_type": "code",
   "execution_count": 15,
   "id": "4025de63",
   "metadata": {},
   "outputs": [],
   "source": [
    "train_data=df_NLP_new.iloc[0:3500]\n",
    "test_data=df_NLP_new.iloc[3501:4020]"
   ]
  },
  {
   "cell_type": "code",
   "execution_count": 16,
   "id": "93fa302a",
   "metadata": {},
   "outputs": [
    {
     "data": {
      "text/plain": [
       "array(['anger', 'joy', 'sympathy', 'sadness', 'fear', 'bored', 'surprise',\n",
       "       'none', 'love'], dtype=object)"
      ]
     },
     "execution_count": 16,
     "metadata": {},
     "output_type": "execute_result"
    }
   ],
   "source": [
    "train_data['label'].unique()"
   ]
  },
  {
   "cell_type": "code",
   "execution_count": 17,
   "id": "f42e02fc",
   "metadata": {},
   "outputs": [
    {
     "name": "stdout",
     "output_type": "stream",
     "text": [
      "<class 'pandas.core.frame.DataFrame'>\n",
      "Int64Index: 4021 entries, 16 to 3512\n",
      "Data columns (total 2 columns):\n",
      " #   Column  Non-Null Count  Dtype \n",
      "---  ------  --------------  ----- \n",
      " 0   tweet   4021 non-null   object\n",
      " 1   label   4021 non-null   object\n",
      "dtypes: object(2)\n",
      "memory usage: 94.2+ KB\n"
     ]
    }
   ],
   "source": [
    "df_NLP_new.info()"
   ]
  },
  {
   "cell_type": "markdown",
   "id": "d1b1928b",
   "metadata": {},
   "source": [
    "## Saving the Results"
   ]
  },
  {
   "cell_type": "code",
   "execution_count": 18,
   "id": "20dd37fb",
   "metadata": {},
   "outputs": [],
   "source": [
    "df_NLP_new.to_csv('clean_NLP_data_set.csv', encoding='utf-8')"
   ]
  }
 ],
 "metadata": {
  "kernelspec": {
   "display_name": "Python 3",
   "language": "python",
   "name": "python3"
  },
  "language_info": {
   "codemirror_mode": {
    "name": "ipython",
    "version": 3
   },
   "file_extension": ".py",
   "mimetype": "text/x-python",
   "name": "python",
   "nbconvert_exporter": "python",
   "pygments_lexer": "ipython3",
   "version": "3.6.13"
  }
 },
 "nbformat": 4,
 "nbformat_minor": 5
}
